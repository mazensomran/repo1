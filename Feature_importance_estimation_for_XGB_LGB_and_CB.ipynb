{
  "nbformat": 4,
  "nbformat_minor": 0,
  "metadata": {
    "colab": {
      "provenance": [],
      "mount_file_id": "1hYoX3dfmiA3dZEO2LRDZa99Bwifepbgu",
      "authorship_tag": "ABX9TyMYM22VbL5adRRw9GaoL5Hr",
      "include_colab_link": true
    },
    "kernelspec": {
      "name": "python3",
      "display_name": "Python 3"
    },
    "language_info": {
      "name": "python"
    }
  },
  "cells": [
    {
      "cell_type": "markdown",
      "metadata": {
        "id": "view-in-github",
        "colab_type": "text"
      },
      "source": [
        "<a href=\"https://colab.research.google.com/github/mazensomran/repo1/blob/main/Feature_importance_estimation_for_XGB_LGB_and_CB.ipynb\" target=\"_parent\"><img src=\"https://colab.research.google.com/assets/colab-badge.svg\" alt=\"Open In Colab\"/></a>"
      ]
    },
    {
      "cell_type": "code",
      "execution_count": null,
      "metadata": {
        "id": "0THyyj4-lWsn"
      },
      "outputs": [],
      "source": [
        "import cv2\n",
        "import pandas as pd\n",
        "import numpy as np\n",
        "import os\n",
        "from skimage.filters import roberts, sobel, scharr, prewitt\n",
        "from scipy import ndimage as nd\n",
        "import time\n",
        "from sklearn import metrics\n",
        "import matplotlib.pyplot as plt\n",
        "from sklearn.metrics import PrecisionRecallDisplay\n",
        "import pickle\n",
        "from sklearn.ensemble import RandomForestClassifier"
      ]
    },
    {
      "cell_type": "code",
      "source": [
        "train_path = \"/content/drive/MyDrive/augmented_train1/\"\n",
        "test_path = \"/content/drive/MyDrive/augmented_test1/\"\n",
        "mask_path =\"/content/drive/MyDrive/augmented_masks1/\""
      ],
      "metadata": {
        "id": "p9DJfesol6Wz"
      },
      "execution_count": null,
      "outputs": []
    },
    {
      "cell_type": "code",
      "source": [
        "def feature_extractor(path,mask_path):\n",
        "    Dataset = pd.DataFrame()\n",
        "    i =1 # for monitoring the operation process\n",
        "    for image in os.listdir(path):  # iterate through each file\n",
        "        #print(i)\n",
        "        df = pd.DataFrame()\n",
        "        if image.split('.')[0][:3] == 'Def': # first three letters of each defect type\n",
        "            mask1 = cv2.imread(mask_path + image)\n",
        "            mask1 = cv2.cvtColor(mask1, cv2.COLOR_BGR2GRAY)\n",
        "            ret,bi_mask = cv2.threshold(mask1,192,255,cv2.THRESH_BINARY)\n",
        "            mask = cv2.resize(bi_mask, (200, 200))//255 #to make the classes confined between 1 and 0 only for each pixel\n",
        "            df[\"label\"] = mask.reshape(-1) # the label of each defected tile images is its binary mask\n",
        "        #else:\n",
        "           # df[\"label\"] = np.zeros((80, 80)).reshape(-1) #if the image not for defected tile its label is (0)\n",
        "\n",
        "            input_img = cv2.imread(path + image)  # Read images\n",
        "            img = cv2.cvtColor(input_img, cv2.COLOR_BGR2GRAY)\n",
        "            img = cv2.resize(img,(200, 200))\n",
        "\n",
        "\n",
        "            pixel_values = img.reshape(-1)/255.0\n",
        "            df['Pixel_Value'] = pd.DataFrame(pixel_values)   #Pixel value itself as a feature\n",
        "        #Defining the desired filter (feature).\n",
        "            edge_roberts = roberts(img)\n",
        "            edge_roberts1 = edge_roberts.reshape(-1)\n",
        "            df['Roberts'] = pd.DataFrame(edge_roberts1)\n",
        "\n",
        "        # SOBEL\n",
        "            edge_sobel = sobel(img)\n",
        "            edge_sobel1 = edge_sobel.reshape(-1)\n",
        "            df['Sobel'] = pd.DataFrame(edge_sobel1)\n",
        "\n",
        "        # VARIANCE with size=3\n",
        "            variance_img = nd.generic_filter(img, np.var, size=3)\n",
        "            edge_variance = variance_img.reshape(-1)/255.0\n",
        "            df['variance'] = pd.DataFrame(edge_variance)\n",
        "\n",
        "        # GAUSSIAN with sigma=3\n",
        "            gaussian_img = nd.gaussian_filter(img, sigma=3)\n",
        "            gaussian_img1 = gaussian_img.reshape(-1)/255.0\n",
        "            df['Gaussian3'] = pd.DataFrame(gaussian_img1)\n",
        "\n",
        "        # SCHARR\n",
        "            edge_scharr = scharr(img)\n",
        "            edge_scharr1 = edge_scharr.reshape(-1)\n",
        "            df['Scharr'] = pd.DataFrame(edge_scharr1)\n",
        "\n",
        "        # PREWITT\n",
        "            edge_prewitt = prewitt(img)\n",
        "            edge_prewitt1 = edge_prewitt.reshape(-1)\n",
        "            df['Prewitt'] = pd.DataFrame(edge_prewitt1)\n",
        "\n",
        "        # MEDIAN with sigma=3\n",
        "            median_img = nd.median_filter(img, size=3)\n",
        "            median_img1 = median_img.reshape(-1)/255.0\n",
        "            df['Median3'] = pd.DataFrame(median_img1)\n",
        "\n",
        "        # CANNY EDGE\n",
        "            edges = cv2.Canny(img, 100, 200)  # Image, min and max values\n",
        "            edges1 = edges.reshape(-1)/255.0\n",
        "            df['Canny_Edge'] = pd.DataFrame(edges1)\n",
        "\n",
        "            print(i)\n",
        "        #Add column to original dataframe\n",
        "            i+=1\n",
        "            Dataset = pd.concat([Dataset,df])\n",
        "\n",
        "    return Dataset"
      ],
      "metadata": {
        "id": "KJQnRkwEl8vh"
      },
      "execution_count": null,
      "outputs": []
    },
    {
      "cell_type": "code",
      "source": [
        "Training_data= feature_extractor(train_path,mask_path)"
      ],
      "metadata": {
        "id": "gscEGMXDmH3x"
      },
      "execution_count": null,
      "outputs": []
    },
    {
      "cell_type": "code",
      "source": [
        "#Training_data = Training_data[Training_data.label != 0]\n",
        "X_train= Training_data.drop(labels =['label',], axis=1)\n",
        "X_train.info()\n",
        "#Scaling training set if needed\n",
        "'''from sklearn import preprocessing\n",
        "min_max_scaler = preprocessing.MinMaxScaler()\n",
        "X_train = min_max_scaler.fit_transform(X_train)'''\n",
        "\n",
        "y_train = Training_data['label'].values"
      ],
      "metadata": {
        "colab": {
          "base_uri": "https://localhost:8080/"
        },
        "id": "95OE43JgmJBB",
        "outputId": "3a5ea3f6-6adf-4636-8c2d-9a060b8a7f65"
      },
      "execution_count": null,
      "outputs": [
        {
          "output_type": "stream",
          "name": "stdout",
          "text": [
            "<class 'pandas.core.frame.DataFrame'>\n",
            "Int64Index: 7680000 entries, 0 to 39999\n",
            "Data columns (total 9 columns):\n",
            " #   Column       Dtype  \n",
            "---  ------       -----  \n",
            " 0   Pixel_Value  float64\n",
            " 1   Roberts      float64\n",
            " 2   Sobel        float64\n",
            " 3   variance     float64\n",
            " 4   Gaussian3    float64\n",
            " 5   Scharr       float64\n",
            " 6   Prewitt      float64\n",
            " 7   Median3      float64\n",
            " 8   Canny_Edge   float64\n",
            "dtypes: float64(9)\n",
            "memory usage: 585.9 MB\n"
          ]
        }
      ]
    },
    {
      "cell_type": "code",
      "source": [
        "np.unique(y_train)"
      ],
      "metadata": {
        "colab": {
          "base_uri": "https://localhost:8080/"
        },
        "id": "pF0fWCQYnleR",
        "outputId": "23483898-ce83-4680-faef-dfdc90efba79"
      },
      "execution_count": null,
      "outputs": [
        {
          "output_type": "execute_result",
          "data": {
            "text/plain": [
              "array([0., 1.])"
            ]
          },
          "metadata": {},
          "execution_count": 22
        }
      ]
    },
    {
      "cell_type": "code",
      "source": [
        "import xgboost as xgb\n",
        "params = {\n",
        "    'max_depth': 3,\n",
        "    'eta': 0.1,\n",
        "    'objective': 'binary:logistic'\n",
        "}\n",
        "XGB_model = xgb.XGBClassifier(**params)"
      ],
      "metadata": {
        "id": "2a4MdXcznmAG"
      },
      "execution_count": null,
      "outputs": []
    },
    {
      "cell_type": "code",
      "source": [
        "t0 = time.time()\n",
        "XGB_model.fit(X_train, y_train)\n",
        "Training_time = time.time()-t0\n",
        "print(\"Training_time\", Training_time)"
      ],
      "metadata": {
        "colab": {
          "base_uri": "https://localhost:8080/"
        },
        "id": "F2Lcr3VEnuP2",
        "outputId": "bc222ed5-9118-42fa-bc6f-bd8f18d8de79"
      },
      "execution_count": null,
      "outputs": [
        {
          "output_type": "stream",
          "name": "stdout",
          "text": [
            "Training_time 453.20412015914917\n"
          ]
        }
      ]
    },
    {
      "cell_type": "code",
      "source": [
        "Feature_importance = {}\n",
        "for score, name in zip(XGB_model.feature_importances_, X_train.columns):\n",
        "  Feature_importance[name] = round(score, 2)\n",
        "sorted_Feature_importance = {k: v for k, v in sorted(Feature_importance.items(), key=lambda item: item[1],reverse=True)}\n",
        "sorted_Feature_importance"
      ],
      "metadata": {
        "colab": {
          "base_uri": "https://localhost:8080/"
        },
        "id": "Mi7hYPoLnwu-",
        "outputId": "3c613b4b-cd1f-496a-fe0e-44da07da7dca"
      },
      "execution_count": null,
      "outputs": [
        {
          "output_type": "execute_result",
          "data": {
            "text/plain": [
              "{'Gaussian3': 0.3,\n",
              " 'Scharr': 0.16,\n",
              " 'Pixel_Value': 0.12,\n",
              " 'Roberts': 0.11,\n",
              " 'Prewitt': 0.1,\n",
              " 'Median3': 0.1,\n",
              " 'variance': 0.08,\n",
              " 'Canny_Edge': 0.02,\n",
              " 'Sobel': 0.01}"
            ]
          },
          "metadata": {},
          "execution_count": 73
        }
      ]
    },
    {
      "cell_type": "code",
      "source": [
        "import lightgbm as lgb\n",
        "params = {\n",
        "    'objective': 'binary',\n",
        "    'metric': 'binary_logloss',\n",
        "    'boosting': 'gbdt',\n",
        "    'num_leaves': 31,\n",
        "    'learning_rate': 0.05,\n",
        "    'feature_fraction': 0.9,\n",
        "    'bagging_fraction': 0.8,\n",
        "    'bagging_freq': 5,\n",
        "    'verbose': 0\n",
        "}\n",
        "\n",
        "train_data = lgb.Dataset(X_train, label=y_train)"
      ],
      "metadata": {
        "id": "Jh40w7tnny1b"
      },
      "execution_count": null,
      "outputs": []
    },
    {
      "cell_type": "code",
      "source": [
        "t0 = time.time()\n",
        "LGB_model = lgb.train(params, train_data, num_boost_round=100)\n",
        "Training_time = time.time()-t0\n",
        "print(\"Training_time\", Training_time)"
      ],
      "metadata": {
        "colab": {
          "base_uri": "https://localhost:8080/"
        },
        "id": "1W2R9WmwoLUI",
        "outputId": "f3429564-0359-4ad0-d7cc-e7429cfeaa5f"
      },
      "execution_count": null,
      "outputs": [
        {
          "output_type": "stream",
          "name": "stdout",
          "text": [
            "[LightGBM] [Warning] Auto-choosing col-wise multi-threading, the overhead of testing was 0.032961 seconds.\n",
            "You can set `force_col_wise=true` to remove the overhead.\n",
            "Training_time 5.506487607955933\n"
          ]
        }
      ]
    },
    {
      "cell_type": "code",
      "source": [
        "# Get feature importances\n",
        "feature_importance = LGB_model.feature_importance()\n",
        "\n",
        "# Get feature names\n",
        "feature_names = LGB_model.feature_name()\n",
        "\n",
        "# Create a feature importance dataframe\n",
        "feature_importance_df = pd.DataFrame({'Feature': feature_names, 'Importance': feature_importance})\n",
        "\n",
        "# Sort the features by importance in descending order\n",
        "feature_importance_df = feature_importance_df.sort_values(by='Importance', ascending=False)\n",
        "\n",
        "# Print the feature importance\n",
        "print(feature_importance_df)"
      ],
      "metadata": {
        "colab": {
          "base_uri": "https://localhost:8080/"
        },
        "id": "HclRY4tJoNmZ",
        "outputId": "c9aebe65-0b19-4f19-b324-462bde9a8d30"
      },
      "execution_count": null,
      "outputs": [
        {
          "output_type": "stream",
          "name": "stdout",
          "text": [
            "       Feature  Importance\n",
            "4    Gaussian3         750\n",
            "0  Pixel_Value         592\n",
            "7      Median3         520\n",
            "1      Roberts         282\n",
            "6      Prewitt         232\n",
            "5       Scharr         223\n",
            "3     variance         219\n",
            "2        Sobel         107\n",
            "8   Canny_Edge          75\n"
          ]
        }
      ]
    },
    {
      "cell_type": "code",
      "source": [
        "!pip install catboost\n",
        "from catboost import CatBoostClassifier"
      ],
      "metadata": {
        "id": "OJz3SU3NoQSW"
      },
      "execution_count": null,
      "outputs": []
    },
    {
      "cell_type": "code",
      "source": [
        "CB_model = CatBoostClassifier()\n",
        "t0 = time.time()\n",
        "CB_model.fit(X_train, y_train)\n",
        "Training_time = time.time()-t0\n",
        "print(\"Training_time\", Training_time)"
      ],
      "metadata": {
        "id": "GBFOGXGvo8zf"
      },
      "execution_count": null,
      "outputs": []
    },
    {
      "cell_type": "code",
      "source": [
        "Feature_importance = {}\n",
        "for score, name in zip(CB_model.feature_importances_, X_train.columns):\n",
        "  Feature_importance[name] = round(score, 2)\n",
        "sorted_Feature_importance = {k: v for k, v in sorted(Feature_importance.items(), key=lambda item: item[1],reverse=True)}\n",
        "sorted_Feature_importance"
      ],
      "metadata": {
        "colab": {
          "base_uri": "https://localhost:8080/"
        },
        "id": "acZXpZrapCtJ",
        "outputId": "bce26939-025a-4559-92a1-402fad4ca608"
      },
      "execution_count": null,
      "outputs": [
        {
          "output_type": "execute_result",
          "data": {
            "text/plain": [
              "{'Gaussian3': 30.81,\n",
              " 'Median3': 19.73,\n",
              " 'Pixel_Value': 12.97,\n",
              " 'variance': 10.6,\n",
              " 'Prewitt': 8.75,\n",
              " 'Scharr': 8.28,\n",
              " 'Sobel': 4.07,\n",
              " 'Roberts': 3.92,\n",
              " 'Canny_Edge': 0.88}"
            ]
          },
          "metadata": {},
          "execution_count": 77
        }
      ]
    },
    {
      "cell_type": "code",
      "source": [],
      "metadata": {
        "id": "ToGivOGrpGV3"
      },
      "execution_count": null,
      "outputs": []
    }
  ]
}